{
  "nbformat": 4,
  "nbformat_minor": 0,
  "metadata": {
    "colab": {
      "name": "Aula_2",
      "provenance": [],
      "collapsed_sections": [],
      "authorship_tag": "ABX9TyPv6obQUjxE1GUGgjU6RhuP",
      "include_colab_link": true
    },
    "kernelspec": {
      "name": "python3",
      "display_name": "Python 3"
    }
  },
  "cells": [
    {
      "cell_type": "markdown",
      "metadata": {
        "id": "view-in-github",
        "colab_type": "text"
      },
      "source": [
        "<a href=\"https://colab.research.google.com/github/Muramatsu2602/nlp-intro/blob/main/Aula_2.ipynb\" target=\"_parent\"><img src=\"https://colab.research.google.com/assets/colab-badge.svg\" alt=\"Open In Colab\"/></a>"
      ]
    },
    {
      "cell_type": "markdown",
      "metadata": {
        "id": "gpP886Z9TGRr"
      },
      "source": [
        "Transforms into a list (a tuple in to a list)"
      ]
    },
    {
      "cell_type": "code",
      "metadata": {
        "id": "7D99WT-PDJX_"
      },
      "source": [
        "list(dic.keys())"
      ],
      "execution_count": null,
      "outputs": []
    },
    {
      "cell_type": "code",
      "metadata": {
        "id": "oYpfWP2KTXvD"
      },
      "source": [
        "x = list(dic.items())\r\n",
        "x.remove(0);  # removing the index\r\n",
        "x."
      ],
      "execution_count": null,
      "outputs": []
    },
    {
      "cell_type": "code",
      "metadata": {
        "colab": {
          "base_uri": "https://localhost:8080/",
          "height": 189
        },
        "id": "BAPnIWokUKqp",
        "outputId": "3d6aeac4-3b68-42ab-c865-8a05d79b9cb6"
      },
      "source": [
        "for key, val in dic.items():\r\n",
        "  print(key, 'tem como valor', val)"
      ],
      "execution_count": 1,
      "outputs": [
        {
          "output_type": "error",
          "ename": "NameError",
          "evalue": "ignored",
          "traceback": [
            "\u001b[0;31m---------------------------------------------------------------------------\u001b[0m",
            "\u001b[0;31mNameError\u001b[0m                                 Traceback (most recent call last)",
            "\u001b[0;32m<ipython-input-1-a328339fda59>\u001b[0m in \u001b[0;36m<module>\u001b[0;34m()\u001b[0m\n\u001b[0;32m----> 1\u001b[0;31m \u001b[0;32mfor\u001b[0m \u001b[0mkey\u001b[0m\u001b[0;34m,\u001b[0m \u001b[0mval\u001b[0m \u001b[0;32min\u001b[0m \u001b[0mdic\u001b[0m\u001b[0;34m.\u001b[0m\u001b[0mitems\u001b[0m\u001b[0;34m(\u001b[0m\u001b[0;34m)\u001b[0m\u001b[0;34m:\u001b[0m\u001b[0;34m\u001b[0m\u001b[0;34m\u001b[0m\u001b[0m\n\u001b[0m\u001b[1;32m      2\u001b[0m   \u001b[0mprint\u001b[0m\u001b[0;34m(\u001b[0m\u001b[0mkey\u001b[0m\u001b[0;34m,\u001b[0m \u001b[0;34m'tem como valor'\u001b[0m\u001b[0;34m,\u001b[0m \u001b[0mval\u001b[0m\u001b[0;34m)\u001b[0m\u001b[0;34m\u001b[0m\u001b[0;34m\u001b[0m\u001b[0m\n",
            "\u001b[0;31mNameError\u001b[0m: name 'dic' is not defined"
          ]
        }
      ]
    },
    {
      "cell_type": "markdown",
      "metadata": {
        "id": "i2MifEaVVGSp"
      },
      "source": [
        "**Files**\r\n",
        "\r\n",
        "- r = read, leitura de arquivo\r\n",
        "- w = write, escrita apenas\r\n",
        "- a = escrita no final do arquivo (append)\r\n"
      ]
    },
    {
      "cell_type": "markdown",
      "metadata": {
        "id": "629C3EshcQlW"
      },
      "source": [
        "**Reading a .txt**"
      ]
    },
    {
      "cell_type": "code",
      "metadata": {
        "id": "5HIWXx6aVJlt"
      },
      "source": [
        "from google.colab import drive\r\n",
        "drive.mount('/content/drive')\r\n",
        "\r\n",
        "infile = open('/content/drive/My Drive/Colab Notebooks/arquivos_txt/qbdata.txt', 'r');\r\n",
        "conteudo = infile.readlines() # read() --> doens't respect the lines \r\n",
        "conteudo"
      ],
      "execution_count": null,
      "outputs": []
    },
    {
      "cell_type": "code",
      "metadata": {
        "id": "03n5xa-la4-F"
      },
      "source": [
        "infile.close() # equivalente ao fclose() no C"
      ],
      "execution_count": null,
      "outputs": []
    },
    {
      "cell_type": "markdown",
      "metadata": {
        "id": "HF5kRNeicSRF"
      },
      "source": [
        "**Writing in a .txt file**"
      ]
    },
    {
      "cell_type": "code",
      "metadata": {
        "id": "lViW7mD2bEUN"
      },
      "source": [
        "from google.colab import drive\r\n",
        "drive.mount('/content/drive/')\r\n",
        "outfile = open('/content/drive/My Drive/Colab Notebooks/arquivos_txt/resultado_aula.txt', 'a') # appending!\r\n",
        "\r\n",
        "outfile.write(\"Escrevendo de 10 a 20\")\r\n",
        "for i in range(10,21):\r\n",
        "  outfile.write(str(i) + '\\n') # must be a string\r\n",
        "outfile.close()\r\n",
        "\r\n",
        "# checking the created file's content\r\n",
        "result = open('/content/drive/My Drive/Colab Notebooks/arquivos_txt/resultado_aula.txt', 'r')\r\n",
        "conteudo_escrito = result.readlines()\r\n",
        "conteudo_escrito\r\n",
        "\r\n",
        "# result.close() "
      ],
      "execution_count": null,
      "outputs": []
    },
    {
      "cell_type": "markdown",
      "metadata": {
        "id": "S9Jba5XxdxZS"
      },
      "source": [
        "**file.write() apenas aceita strings**"
      ]
    },
    {
      "cell_type": "markdown",
      "metadata": {
        "id": "svwJiV6GkZ1n"
      },
      "source": [
        "**STRINGS**\r\n",
        "\r\n"
      ]
    },
    {
      "cell_type": "code",
      "metadata": {
        "id": "B4IWVoBkkfTV"
      },
      "source": [
        "'aspas simples'"
      ],
      "execution_count": null,
      "outputs": []
    },
    {
      "cell_type": "code",
      "metadata": {
        "id": "AxwVROhukgtD"
      },
      "source": [
        "\"aspas duplas\""
      ],
      "execution_count": null,
      "outputs": []
    },
    {
      "cell_type": "code",
      "metadata": {
        "colab": {
          "base_uri": "https://localhost:8080/",
          "height": 35
        },
        "id": "NX9GKi3Okh3b",
        "outputId": "44da535b-8381-4653-a5f5-7d0af08a3dc8"
      },
      "source": [
        "\"\"\"as aspas triplas tem uma proprieade ignoram as quebras de linha,\r\n",
        "entao a string aparece da forma como ela eh escrita,\r\n",
        "inclusive com as quebras de linha\"\"\""
      ],
      "execution_count": 17,
      "outputs": [
        {
          "output_type": "execute_result",
          "data": {
            "application/vnd.google.colaboratory.intrinsic+json": {
              "type": "string"
            },
            "text/plain": [
              "'as aspas triplas ignoram as quebras de linha,\\nentao a string aparece da forma como ela eh escrita'"
            ]
          },
          "metadata": {
            "tags": []
          },
          "execution_count": 17
        }
      ]
    }
  ]
}