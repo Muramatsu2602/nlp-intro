{
  "nbformat": 4,
  "nbformat_minor": 0,
  "metadata": {
    "colab": {
      "name": "Aula_2",
      "provenance": [],
      "collapsed_sections": [],
      "authorship_tag": "ABX9TyNw+zXEtD5L2QrSHetVysyQ",
      "include_colab_link": true
    },
    "kernelspec": {
      "name": "python3",
      "display_name": "Python 3"
    }
  },
  "cells": [
    {
      "cell_type": "markdown",
      "metadata": {
        "id": "view-in-github",
        "colab_type": "text"
      },
      "source": [
        "<a href=\"https://colab.research.google.com/github/Muramatsu2602/nlp-intro/blob/main/Aula_2.ipynb\" target=\"_parent\"><img src=\"https://colab.research.google.com/assets/colab-badge.svg\" alt=\"Open In Colab\"/></a>"
      ]
    },
    {
      "cell_type": "markdown",
      "metadata": {
        "id": "gpP886Z9TGRr"
      },
      "source": [
        "Transforms into a list (a tuple in to a list)"
      ]
    },
    {
      "cell_type": "code",
      "metadata": {
        "id": "7D99WT-PDJX_"
      },
      "source": [
        "list(dic.keys())"
      ],
      "execution_count": null,
      "outputs": []
    },
    {
      "cell_type": "code",
      "metadata": {
        "id": "oYpfWP2KTXvD"
      },
      "source": [
        "x = list(dic.items())\r\n",
        "x.remove(0);  # removing the index\r\n",
        "x."
      ],
      "execution_count": null,
      "outputs": []
    },
    {
      "cell_type": "code",
      "metadata": {
        "colab": {
          "base_uri": "https://localhost:8080/",
          "height": 189
        },
        "id": "BAPnIWokUKqp",
        "outputId": "3d6aeac4-3b68-42ab-c865-8a05d79b9cb6"
      },
      "source": [
        "for key, val in dic.items():\r\n",
        "  print(key, 'tem como valor', val)"
      ],
      "execution_count": 1,
      "outputs": [
        {
          "output_type": "error",
          "ename": "NameError",
          "evalue": "ignored",
          "traceback": [
            "\u001b[0;31m---------------------------------------------------------------------------\u001b[0m",
            "\u001b[0;31mNameError\u001b[0m                                 Traceback (most recent call last)",
            "\u001b[0;32m<ipython-input-1-a328339fda59>\u001b[0m in \u001b[0;36m<module>\u001b[0;34m()\u001b[0m\n\u001b[0;32m----> 1\u001b[0;31m \u001b[0;32mfor\u001b[0m \u001b[0mkey\u001b[0m\u001b[0;34m,\u001b[0m \u001b[0mval\u001b[0m \u001b[0;32min\u001b[0m \u001b[0mdic\u001b[0m\u001b[0;34m.\u001b[0m\u001b[0mitems\u001b[0m\u001b[0;34m(\u001b[0m\u001b[0;34m)\u001b[0m\u001b[0;34m:\u001b[0m\u001b[0;34m\u001b[0m\u001b[0;34m\u001b[0m\u001b[0m\n\u001b[0m\u001b[1;32m      2\u001b[0m   \u001b[0mprint\u001b[0m\u001b[0;34m(\u001b[0m\u001b[0mkey\u001b[0m\u001b[0;34m,\u001b[0m \u001b[0;34m'tem como valor'\u001b[0m\u001b[0;34m,\u001b[0m \u001b[0mval\u001b[0m\u001b[0;34m)\u001b[0m\u001b[0;34m\u001b[0m\u001b[0;34m\u001b[0m\u001b[0m\n",
            "\u001b[0;31mNameError\u001b[0m: name 'dic' is not defined"
          ]
        }
      ]
    },
    {
      "cell_type": "markdown",
      "metadata": {
        "id": "i2MifEaVVGSp"
      },
      "source": [
        "**Files**\r\n",
        "\r\n",
        "- r = read, leitura de arquivo\r\n",
        "- w = write, escrita apenas\r\n",
        "- a = escrita no final do arquivo (append)\r\n"
      ]
    },
    {
      "cell_type": "code",
      "metadata": {
        "colab": {
          "base_uri": "https://localhost:8080/",
          "height": 235
        },
        "id": "5HIWXx6aVJlt",
        "outputId": "cb7faec5-3afb-4db7-b433-1332648a9cf8"
      },
      "source": [
        "from google.colab import drive\r\n",
        "drive.mount('/content/drive')\r\n",
        "\r\n",
        "infile = open('/content/drive/My Drive/arquivos_txt/qbdata.txt', 'r');\r\n",
        "conteudo = infile.read()\r\n",
        "conteudo\r\n"
      ],
      "execution_count": 6,
      "outputs": [
        {
          "output_type": "stream",
          "text": [
            "Drive already mounted at /content/drive; to attempt to forcibly remount, call drive.mount(\"/content/drive\", force_remount=True).\n"
          ],
          "name": "stdout"
        },
        {
          "output_type": "execute_result",
          "data": {
            "application/vnd.google.colaboratory.intrinsic+json": {
              "type": "string"
            },
            "text/plain": [
              "'First Name, Last Name, Position, Team, Completions, Attempts, Yards, TDs Ints, Comp%, Rating\\nColt McCoy QB, CLE  135 222 1576    6   9   60.8%   74.5\\nJosh Freeman QB, TB 291 474 3451    25  6   61.4%   95.9\\nMichael Vick QB, PHI    233 372 3018    21  6   62.6%   100.2\\nMatt Schaub QB, HOU 365 574 4370    24  12  63.6%   92.0\\nPhilip Rivers QB, SD    357 541 4710    30  13  66.0%   101.8\\nMatt Hasselbeck QB, SEA 266 444 3001    12  17  59.9%   73.2\\nJimmy Clausen QB, CAR   157 299 1558    3   9   52.5%   58.4\\nJoe Flacco QB, BAL  306 489 3622    25  10  62.6%   93.6\\nKyle Orton QB, DEN  293 498 3653    20  9   58.8%   87.5\\nJason Campbell QB, OAK  194 329 2387    13  8   59.0%   84.5\\nPeyton Manning QB, IND  450 679 4700    33  17  66.3%   91.9\\nDrew Brees QB, NO   448 658 4620    33  22  68.1%   90.9\\nMatt Ryan QB, ATL   357 571 3705    28  9   62.5%   91.0\\nMatt Cassel QB, KC  262 450 3116    27  7   58.2%   93.0\\nMark Sanchez QB, NYJ    278 507 3291    17  13  54.8%   75.3\\nBrett Favre QB, MIN 217 358 2509    11  19  60.6%   69.9\\nDavid Garrard QB, JAC   236 366 2734    23  15  64.5%   90.8\\nEli Manning QB, NYG 339 539 4002    31  25  62.9%   85.3\\nCarson Palmer QB, CIN   362 586 3970    26  20  61.8%   82.4\\nAlex Smith QB, SF   204 342 2370    14  10  59.6%   82.1\\nChad Henne QB, MIA  301 490 3301    15  19  61.4%   75.4\\nTony Romo QB, DAL   148 213 1605    11  7   69.5%   94.9\\nJay Cutler QB, CHI  261 432 3274    23  16  60.4%   86.3\\nJon Kitna QB, DAL   209 318 2365    16  12  65.7%   88.9\\nTom Brady QB, NE    324 492 3900    36  4   65.9%   111.0\\nBen Roethlisberger QB, PIT  240 389 3200    17  5   61.7%   97.0\\nKerry Collins QB, TEN   160 278 1823    14  8   57.6%   82.2\\nDerek Anderson QB, ARI  169 327 2065    7   10  51.7%   65.9\\nRyan Fitzpatrick QB, BUF    255 441 3000    23  15  57.8%   81.8\\nDonovan McNabb QB, WAS  275 472 3377    14  15  58.3%   77.1\\nKevin Kolb QB, PHI  115 189 1197    7   7   60.8%   76.1\\nAaron Rodgers QB, GB    312 475 3922    28  11  65.7%   101.2\\nSam Bradford QB, STL    354 590 3512    18  15  60.0%   76.5\\nShaun Hill QB, DET  257 416 2686    16  12  61.8%   81.3'"
            ]
          },
          "metadata": {
            "tags": []
          },
          "execution_count": 6
        }
      ]
    }
  ]
}