{
  "nbformat": 4,
  "nbformat_minor": 0,
  "metadata": {
    "colab": {
      "name": "Aula_2",
      "provenance": [],
      "collapsed_sections": [],
      "authorship_tag": "ABX9TyN3gQD6mIus3907D1pcvOnI",
      "include_colab_link": true
    },
    "kernelspec": {
      "name": "python3",
      "display_name": "Python 3"
    }
  },
  "cells": [
    {
      "cell_type": "markdown",
      "metadata": {
        "id": "view-in-github",
        "colab_type": "text"
      },
      "source": [
        "<a href=\"https://colab.research.google.com/github/Muramatsu2602/nlp-intro/blob/main/Aula_2.ipynb\" target=\"_parent\"><img src=\"https://colab.research.google.com/assets/colab-badge.svg\" alt=\"Open In Colab\"/></a>"
      ]
    },
    {
      "cell_type": "markdown",
      "metadata": {
        "id": "gpP886Z9TGRr"
      },
      "source": [
        "Transforms into a list (a tuple in to a list)"
      ]
    },
    {
      "cell_type": "code",
      "metadata": {
        "id": "7D99WT-PDJX_"
      },
      "source": [
        "list(dic.keys())"
      ],
      "execution_count": null,
      "outputs": []
    },
    {
      "cell_type": "code",
      "metadata": {
        "id": "oYpfWP2KTXvD"
      },
      "source": [
        "x = list(dic.items())\r\n",
        "x.remove(0);  # removing the index\r\n",
        "x."
      ],
      "execution_count": null,
      "outputs": []
    },
    {
      "cell_type": "code",
      "metadata": {
        "colab": {
          "base_uri": "https://localhost:8080/",
          "height": 189
        },
        "id": "BAPnIWokUKqp",
        "outputId": "3d6aeac4-3b68-42ab-c865-8a05d79b9cb6"
      },
      "source": [
        "for key, val in dic.items():\r\n",
        "  print(key, 'tem como valor', val)"
      ],
      "execution_count": 1,
      "outputs": [
        {
          "output_type": "error",
          "ename": "NameError",
          "evalue": "ignored",
          "traceback": [
            "\u001b[0;31m---------------------------------------------------------------------------\u001b[0m",
            "\u001b[0;31mNameError\u001b[0m                                 Traceback (most recent call last)",
            "\u001b[0;32m<ipython-input-1-a328339fda59>\u001b[0m in \u001b[0;36m<module>\u001b[0;34m()\u001b[0m\n\u001b[0;32m----> 1\u001b[0;31m \u001b[0;32mfor\u001b[0m \u001b[0mkey\u001b[0m\u001b[0;34m,\u001b[0m \u001b[0mval\u001b[0m \u001b[0;32min\u001b[0m \u001b[0mdic\u001b[0m\u001b[0;34m.\u001b[0m\u001b[0mitems\u001b[0m\u001b[0;34m(\u001b[0m\u001b[0;34m)\u001b[0m\u001b[0;34m:\u001b[0m\u001b[0;34m\u001b[0m\u001b[0;34m\u001b[0m\u001b[0m\n\u001b[0m\u001b[1;32m      2\u001b[0m   \u001b[0mprint\u001b[0m\u001b[0;34m(\u001b[0m\u001b[0mkey\u001b[0m\u001b[0;34m,\u001b[0m \u001b[0;34m'tem como valor'\u001b[0m\u001b[0;34m,\u001b[0m \u001b[0mval\u001b[0m\u001b[0;34m)\u001b[0m\u001b[0;34m\u001b[0m\u001b[0;34m\u001b[0m\u001b[0m\n",
            "\u001b[0;31mNameError\u001b[0m: name 'dic' is not defined"
          ]
        }
      ]
    },
    {
      "cell_type": "markdown",
      "metadata": {
        "id": "i2MifEaVVGSp"
      },
      "source": [
        "**Files**\r\n",
        "\r\n",
        "- r = read, leitura de arquivo\r\n",
        "- w = write, escrita apenas\r\n",
        "- a = escrita no final do arquivo (append)\r\n"
      ]
    },
    {
      "cell_type": "markdown",
      "metadata": {
        "id": "629C3EshcQlW"
      },
      "source": [
        "**Reading a .txt**"
      ]
    },
    {
      "cell_type": "code",
      "metadata": {
        "id": "5HIWXx6aVJlt"
      },
      "source": [
        "from google.colab import drive\r\n",
        "drive.mount('/content/drive')\r\n",
        "\r\n",
        "infile = open('/content/drive/My Drive/Colab Notebooks/arquivos_txt/qbdata.txt', 'r');\r\n",
        "conteudo = infile.readlines() # read() --> doens't respect the lines \r\n",
        "conteudo"
      ],
      "execution_count": null,
      "outputs": []
    },
    {
      "cell_type": "code",
      "metadata": {
        "id": "03n5xa-la4-F"
      },
      "source": [
        "infile.close() # equivalente ao fclose() no C"
      ],
      "execution_count": null,
      "outputs": []
    },
    {
      "cell_type": "markdown",
      "metadata": {
        "id": "HF5kRNeicSRF"
      },
      "source": [
        "**Writing in a .txt file**"
      ]
    },
    {
      "cell_type": "code",
      "metadata": {
        "id": "lViW7mD2bEUN"
      },
      "source": [
        "from google.colab import drive\r\n",
        "drive.mount('/content/drive/')\r\n",
        "outfile = open('/content/drive/My Drive/Colab Notebooks/arquivos_txt/resultado_aula.txt', 'a') # appending!\r\n",
        "\r\n",
        "outfile.write(\"Escrevendo de 10 a 20\")\r\n",
        "for i in range(10,21):\r\n",
        "  outfile.write(str(i) + '\\n') # must be a string\r\n",
        "outfile.close()\r\n",
        "\r\n",
        "# checking the created file's content\r\n",
        "result = open('/content/drive/My Drive/Colab Notebooks/arquivos_txt/resultado_aula.txt', 'r')\r\n",
        "conteudo_escrito = result.readlines()\r\n",
        "conteudo_escrito\r\n",
        "\r\n",
        "# result.close() "
      ],
      "execution_count": null,
      "outputs": []
    },
    {
      "cell_type": "markdown",
      "metadata": {
        "id": "S9Jba5XxdxZS"
      },
      "source": [
        "**file.write() apenas aceita strings**"
      ]
    },
    {
      "cell_type": "markdown",
      "metadata": {
        "id": "svwJiV6GkZ1n"
      },
      "source": [
        "**STRINGS**\r\n",
        "\r\n"
      ]
    },
    {
      "cell_type": "code",
      "metadata": {
        "id": "B4IWVoBkkfTV"
      },
      "source": [
        "'aspas simples'"
      ],
      "execution_count": null,
      "outputs": []
    },
    {
      "cell_type": "code",
      "metadata": {
        "id": "AxwVROhukgtD"
      },
      "source": [
        "\"aspas duplas\""
      ],
      "execution_count": null,
      "outputs": []
    },
    {
      "cell_type": "code",
      "metadata": {
        "colab": {
          "base_uri": "https://localhost:8080/",
          "height": 35
        },
        "id": "NX9GKi3Okh3b",
        "outputId": "44da535b-8381-4653-a5f5-7d0af08a3dc8"
      },
      "source": [
        "\"\"\"as aspas triplas tem uma proprieade ignoram as quebras de linha,\r\n",
        "entao a string aparece da forma como ela eh escrita,\r\n",
        "inclusive com as quebras de linha\"\"\""
      ],
      "execution_count": 17,
      "outputs": [
        {
          "output_type": "execute_result",
          "data": {
            "application/vnd.google.colaboratory.intrinsic+json": {
              "type": "string"
            },
            "text/plain": [
              "'as aspas triplas ignoram as quebras de linha,\\nentao a string aparece da forma como ela eh escrita'"
            ]
          },
          "metadata": {
            "tags": []
          },
          "execution_count": 17
        }
      ]
    },
    {
      "cell_type": "code",
      "metadata": {
        "colab": {
          "base_uri": "https://localhost:8080/",
          "height": 35
        },
        "id": "VC6Osn6flCPG",
        "outputId": "682abf32-69c5-478e-c94b-b59df1baa0d2"
      },
      "source": [
        "r = 'roney'\r\n",
        "nr = 'l' + r[1:] # slice -> pega so o r a partir do o (segundo caractere no index r[1])\r\n",
        "\r\n",
        "nr"
      ],
      "execution_count": 18,
      "outputs": [
        {
          "output_type": "execute_result",
          "data": {
            "application/vnd.google.colaboratory.intrinsic+json": {
              "type": "string"
            },
            "text/plain": [
              "'loney'"
            ]
          },
          "metadata": {
            "tags": []
          },
          "execution_count": 18
        }
      ]
    },
    {
      "cell_type": "code",
      "metadata": {
        "colab": {
          "base_uri": "https://localhost:8080/",
          "height": 35
        },
        "id": "55f_rKS1loFU",
        "outputId": "09ff0b05-2f38-4805-d122-35b1bdef2353"
      },
      "source": [
        "r = 'roney'\r\n",
        "r= r + ' josias'\r\n",
        "\r\n",
        "r"
      ],
      "execution_count": 19,
      "outputs": [
        {
          "output_type": "execute_result",
          "data": {
            "application/vnd.google.colaboratory.intrinsic+json": {
              "type": "string"
            },
            "text/plain": [
              "'roneyjosias'"
            ]
          },
          "metadata": {
            "tags": []
          },
          "execution_count": 19
        }
      ]
    },
    {
      "cell_type": "code",
      "metadata": {
        "colab": {
          "base_uri": "https://localhost:8080/",
          "height": 35
        },
        "id": "LVNekZpYl7KB",
        "outputId": "f8a84df8-fb5e-4f39-90b4-a7c98d584722"
      },
      "source": [
        "pi = 3.14\r\n",
        "info = 'o valor de pi eh = ' + str(pi)\r\n",
        "\r\n",
        "info"
      ],
      "execution_count": 25,
      "outputs": [
        {
          "output_type": "execute_result",
          "data": {
            "application/vnd.google.colaboratory.intrinsic+json": {
              "type": "string"
            },
            "text/plain": [
              "'o valor de pi eh = 3.14'"
            ]
          },
          "metadata": {
            "tags": []
          },
          "execution_count": 25
        }
      ]
    },
    {
      "cell_type": "markdown",
      "metadata": {
        "id": "gQSelvJ0n_jd"
      },
      "source": [
        "**Slicing strings**"
      ]
    },
    {
      "cell_type": "code",
      "metadata": {
        "id": "yUi5HqKFnySN"
      },
      "source": [
        "string = 'liquidificador'"
      ],
      "execution_count": 31,
      "outputs": []
    },
    {
      "cell_type": "code",
      "metadata": {
        "colab": {
          "base_uri": "https://localhost:8080/",
          "height": 35
        },
        "id": "fn6DTadDoCdE",
        "outputId": "60f7e6a1-d4ea-48dc-c6c7-bd00904dfb60"
      },
      "source": [
        "string[1:]"
      ],
      "execution_count": 32,
      "outputs": [
        {
          "output_type": "execute_result",
          "data": {
            "application/vnd.google.colaboratory.intrinsic+json": {
              "type": "string"
            },
            "text/plain": [
              "'iquidificador'"
            ]
          },
          "metadata": {
            "tags": []
          },
          "execution_count": 32
        }
      ]
    },
    {
      "cell_type": "code",
      "metadata": {
        "colab": {
          "base_uri": "https://localhost:8080/",
          "height": 35
        },
        "id": "QOwsIV9uoECm",
        "outputId": "f8e29189-a583-4fc3-8327-2588866ca9a8"
      },
      "source": [
        "string[-1]"
      ],
      "execution_count": 34,
      "outputs": [
        {
          "output_type": "execute_result",
          "data": {
            "application/vnd.google.colaboratory.intrinsic+json": {
              "type": "string"
            },
            "text/plain": [
              "'r'"
            ]
          },
          "metadata": {
            "tags": []
          },
          "execution_count": 34
        }
      ]
    },
    {
      "cell_type": "code",
      "metadata": {
        "colab": {
          "base_uri": "https://localhost:8080/",
          "height": 35
        },
        "id": "VhrNqs3HoKEn",
        "outputId": "026bbf57-1bdd-45d4-94cb-4fdf650cc6a2"
      },
      "source": [
        "string[1:10]"
      ],
      "execution_count": 35,
      "outputs": [
        {
          "output_type": "execute_result",
          "data": {
            "application/vnd.google.colaboratory.intrinsic+json": {
              "type": "string"
            },
            "text/plain": [
              "'iquidific'"
            ]
          },
          "metadata": {
            "tags": []
          },
          "execution_count": 35
        }
      ]
    },
    {
      "cell_type": "code",
      "metadata": {
        "colab": {
          "base_uri": "https://localhost:8080/"
        },
        "id": "wH_eZShFoOB5",
        "outputId": "98874967-e2f6-4618-c227-73c8d99b1806"
      },
      "source": [
        "len(string)"
      ],
      "execution_count": 36,
      "outputs": [
        {
          "output_type": "execute_result",
          "data": {
            "text/plain": [
              "14"
            ]
          },
          "metadata": {
            "tags": []
          },
          "execution_count": 36
        }
      ]
    },
    {
      "cell_type": "code",
      "metadata": {
        "colab": {
          "base_uri": "https://localhost:8080/",
          "height": 35
        },
        "id": "BAYeSBYlo926",
        "outputId": "e375c380-c91d-41da-d5ba-e5d6ef20e083"
      },
      "source": [
        "string.upper()"
      ],
      "execution_count": 37,
      "outputs": [
        {
          "output_type": "execute_result",
          "data": {
            "application/vnd.google.colaboratory.intrinsic+json": {
              "type": "string"
            },
            "text/plain": [
              "'LIQUIDIFICADOR'"
            ]
          },
          "metadata": {
            "tags": []
          },
          "execution_count": 37
        }
      ]
    },
    {
      "cell_type": "code",
      "metadata": {
        "colab": {
          "base_uri": "https://localhost:8080/",
          "height": 35
        },
        "id": "H0rsAoM7pZEW",
        "outputId": "7130e641-e73a-4011-8878-5f1882cc5f2e"
      },
      "source": [
        "string.lower()"
      ],
      "execution_count": 38,
      "outputs": [
        {
          "output_type": "execute_result",
          "data": {
            "application/vnd.google.colaboratory.intrinsic+json": {
              "type": "string"
            },
            "text/plain": [
              "'liquidificador'"
            ]
          },
          "metadata": {
            "tags": []
          },
          "execution_count": 38
        }
      ]
    },
    {
      "cell_type": "code",
      "metadata": {
        "colab": {
          "base_uri": "https://localhost:8080/",
          "height": 35
        },
        "id": "3DowJsD_pa94",
        "outputId": "ea0e292a-570a-4666-bb22-baf66d48c338"
      },
      "source": [
        "r = \"    Aula sobre strings   \"\r\n",
        "r.strip()"
      ],
      "execution_count": 41,
      "outputs": [
        {
          "output_type": "execute_result",
          "data": {
            "application/vnd.google.colaboratory.intrinsic+json": {
              "type": "string"
            },
            "text/plain": [
              "'Aula sobre strings'"
            ]
          },
          "metadata": {
            "tags": []
          },
          "execution_count": 41
        }
      ]
    },
    {
      "cell_type": "code",
      "metadata": {
        "colab": {
          "base_uri": "https://localhost:8080/",
          "height": 35
        },
        "id": "4hdy4WRxpln_",
        "outputId": "56518f1f-d8a3-437e-8b30-37ff52500d71"
      },
      "source": [
        "r.replace('s','あ')"
      ],
      "execution_count": 42,
      "outputs": [
        {
          "output_type": "execute_result",
          "data": {
            "application/vnd.google.colaboratory.intrinsic+json": {
              "type": "string"
            },
            "text/plain": [
              "'    Aula あobre あtringあ   '"
            ]
          },
          "metadata": {
            "tags": []
          },
          "execution_count": 42
        }
      ]
    }
  ]
}