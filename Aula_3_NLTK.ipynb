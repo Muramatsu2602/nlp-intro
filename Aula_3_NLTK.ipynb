{
  "nbformat": 4,
  "nbformat_minor": 0,
  "metadata": {
    "colab": {
      "name": "Aula 3 - NLTK",
      "provenance": [],
      "authorship_tag": "ABX9TyN+s/l/KnrcL3Ksce45bUUN",
      "include_colab_link": true
    },
    "kernelspec": {
      "name": "python3",
      "display_name": "Python 3"
    }
  },
  "cells": [
    {
      "cell_type": "markdown",
      "metadata": {
        "id": "view-in-github",
        "colab_type": "text"
      },
      "source": [
        "<a href=\"https://colab.research.google.com/github/Muramatsu2602/nlp-intro/blob/main/Aula_3_NLTK.ipynb\" target=\"_parent\"><img src=\"https://colab.research.google.com/assets/colab-badge.svg\" alt=\"Open In Colab\"/></a>"
      ]
    },
    {
      "cell_type": "code",
      "metadata": {
        "id": "T6PgidY-KhK8"
      },
      "source": [
        ""
      ],
      "execution_count": null,
      "outputs": []
    },
    {
      "cell_type": "markdown",
      "metadata": {
        "id": "DE2_TAS9crEt"
      },
      "source": [
        "NLTK - STEMMER e LEMMATIZER\n",
        "- STEMMING: consiste em reduzir a palavra a radical\n",
        "  - amig: amigo, amiga, amiguinho\n",
        "  - gat: gatuno, gatao, gato\n",
        "  - prop: prop, propuseram\n",
        "- LEMMATIZER:reduzir a palavra asua forma canonica\n",
        "  - propor: propem, propuseram\n",
        "  - estudar: estudando, estudioso, estudei"
      ]
    }
  ]
}