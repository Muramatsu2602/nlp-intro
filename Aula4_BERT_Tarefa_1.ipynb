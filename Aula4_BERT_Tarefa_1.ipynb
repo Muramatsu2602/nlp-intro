{
  "nbformat": 4,
  "nbformat_minor": 0,
  "metadata": {
    "colab": {
      "name": "Aula4 BERT - Tarefa 1",
      "provenance": [],
      "authorship_tag": "ABX9TyPrTC5ElqvrxZUQ1OXRKaD2",
      "include_colab_link": true
    },
    "kernelspec": {
      "name": "python3",
      "display_name": "Python 3"
    },
    "language_info": {
      "name": "python"
    }
  },
  "cells": [
    {
      "cell_type": "markdown",
      "metadata": {
        "id": "view-in-github",
        "colab_type": "text"
      },
      "source": [
        "<a href=\"https://colab.research.google.com/github/Muramatsu2602/nlp-intro/blob/main/Aula4_BERT_Tarefa_1.ipynb\" target=\"_parent\"><img src=\"https://colab.research.google.com/assets/colab-badge.svg\" alt=\"Open In Colab\"/></a>"
      ]
    },
    {
      "cell_type": "code",
      "metadata": {
        "id": "oLE5MbhbwXS-"
      },
      "source": [
        "import torch\n",
        "from transformers import BertTokanizer, BertModel, BertForMaskedLM\n",
        "\n",
        "\n",
        "# load pre-trained model tokenizer\n",
        "tokenizer = BertTokenizer.from_pretained('neuralmind/bert-base-portuguese-cased')\n",
        "\n",
        "# load pre-trained model (weights)\n",
        "model = "
      ],
      "execution_count": null,
      "outputs": []
    }
  ]
}