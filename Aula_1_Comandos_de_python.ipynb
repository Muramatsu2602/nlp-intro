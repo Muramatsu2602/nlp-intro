{
  "nbformat": 4,
  "nbformat_minor": 0,
  "metadata": {
    "colab": {
      "name": "Aula 1 - Comandos de python.ipynb",
      "provenance": [],
      "collapsed_sections": [],
      "authorship_tag": "ABX9TyOJXCZ3D5uRuk2DozZYKjAK",
      "include_colab_link": true
    },
    "kernelspec": {
      "name": "python3",
      "display_name": "Python 3"
    }
  },
  "cells": [
    {
      "cell_type": "markdown",
      "metadata": {
        "id": "view-in-github",
        "colab_type": "text"
      },
      "source": [
        "<a href=\"https://colab.research.google.com/github/Muramatsu2602/nlp-intro/blob/main/Aula_1_Comandos_de_python.ipynb\" target=\"_parent\"><img src=\"https://colab.research.google.com/assets/colab-badge.svg\" alt=\"Open In Colab\"/></a>"
      ]
    },
    {
      "cell_type": "markdown",
      "metadata": {
        "id": "y5EncUSnlcfi"
      },
      "source": [
        "**This** is a *test* program..."
      ]
    },
    {
      "cell_type": "code",
      "metadata": {
        "colab": {
          "base_uri": "https://localhost:8080/"
        },
        "id": "aEMFyJATjtKD",
        "outputId": "f60728a2-fdfd-4f8b-8361-01f72ce51f9e"
      },
      "source": [
        "print(\"hello boss\")"
      ],
      "execution_count": 5,
      "outputs": [
        {
          "output_type": "stream",
          "text": [
            "hello boss\n"
          ],
          "name": "stdout"
        }
      ]
    },
    {
      "cell_type": "markdown",
      "metadata": {
        "id": "W1H3Bdnwo91v"
      },
      "source": [
        "**It does direct maths**"
      ]
    },
    {
      "cell_type": "code",
      "metadata": {
        "colab": {
          "base_uri": "https://localhost:8080/"
        },
        "id": "qufnjaMqnZ85",
        "outputId": "b5cbcb74-b641-4e48-f6bb-82be9fd9909b"
      },
      "source": [
        "1+1"
      ],
      "execution_count": 6,
      "outputs": [
        {
          "output_type": "execute_result",
          "data": {
            "text/plain": [
              "2"
            ]
          },
          "metadata": {
            "tags": []
          },
          "execution_count": 6
        }
      ]
    },
    {
      "cell_type": "code",
      "metadata": {
        "colab": {
          "base_uri": "https://localhost:8080/"
        },
        "id": "IVj7d3DwqfrY",
        "outputId": "3461de79-f76c-4c48-9b7a-1a0cb6589426"
      },
      "source": [
        "banana = 4\n",
        "banana = banana + 5\n",
        "print(banana)"
      ],
      "execution_count": 8,
      "outputs": [
        {
          "output_type": "stream",
          "text": [
            "9\n"
          ],
          "name": "stdout"
        }
      ]
    },
    {
      "cell_type": "markdown",
      "metadata": {
        "id": "l3pHHkzqp6n6"
      },
      "source": [
        "**Python is:**\n",
        "\n",
        "\n",
        "*   A high-level language\n",
        "*   **Many programming types:**\n",
        "  * Modular: dividing the algorithm in blocks\n",
        "  * Object-oriented: classes and objects being referenced\n",
        "  * Functional: application of mathematical functions\n",
        "* **Types:**\n",
        "  * strong and dynamic\n",
        "* Open source\n",
        "* **Interpreted language:** \n",
        "\n",
        "\n"
      ]
    }
  ]
}