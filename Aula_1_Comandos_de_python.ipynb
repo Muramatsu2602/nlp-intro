{
  "nbformat": 4,
  "nbformat_minor": 0,
  "metadata": {
    "colab": {
      "name": "Aula 1 - Comandos de python.ipynb",
      "provenance": [],
      "collapsed_sections": [],
      "authorship_tag": "ABX9TyOryjkwg07r3160oVt/mquz",
      "include_colab_link": true
    },
    "kernelspec": {
      "name": "python3",
      "display_name": "Python 3"
    }
  },
  "cells": [
    {
      "cell_type": "markdown",
      "metadata": {
        "id": "view-in-github",
        "colab_type": "text"
      },
      "source": [
        "<a href=\"https://colab.research.google.com/github/Muramatsu2602/nlp-intro/blob/main/Aula_1_Comandos_de_python.ipynb\" target=\"_parent\"><img src=\"https://colab.research.google.com/assets/colab-badge.svg\" alt=\"Open In Colab\"/></a>"
      ]
    },
    {
      "cell_type": "markdown",
      "metadata": {
        "id": "y5EncUSnlcfi"
      },
      "source": [
        "**This** is a *test* program..."
      ]
    },
    {
      "cell_type": "code",
      "metadata": {
        "colab": {
          "base_uri": "https://localhost:8080/"
        },
        "id": "aEMFyJATjtKD",
        "outputId": "c4b8e389-c0eb-4495-ac78-e8dc24ba6e05"
      },
      "source": [
        "print(\"hello boss\")"
      ],
      "execution_count": 43,
      "outputs": [
        {
          "output_type": "stream",
          "text": [
            "hello boss\n"
          ],
          "name": "stdout"
        }
      ]
    },
    {
      "cell_type": "markdown",
      "metadata": {
        "id": "W1H3Bdnwo91v"
      },
      "source": [
        "**It does direct maths**"
      ]
    },
    {
      "cell_type": "code",
      "metadata": {
        "colab": {
          "base_uri": "https://localhost:8080/"
        },
        "id": "qufnjaMqnZ85",
        "outputId": "305bce75-ea33-4887-eccb-25a36e2856fc"
      },
      "source": [
        "1+1"
      ],
      "execution_count": 44,
      "outputs": [
        {
          "output_type": "execute_result",
          "data": {
            "text/plain": [
              "2"
            ]
          },
          "metadata": {
            "tags": []
          },
          "execution_count": 44
        }
      ]
    },
    {
      "cell_type": "code",
      "metadata": {
        "colab": {
          "base_uri": "https://localhost:8080/"
        },
        "id": "IVj7d3DwqfrY",
        "outputId": "d347454e-bc29-493d-a89c-7b201e4fcfc2"
      },
      "source": [
        "banana = 4\n",
        "banana = banana + 5\n",
        "print(banana)"
      ],
      "execution_count": 45,
      "outputs": [
        {
          "output_type": "stream",
          "text": [
            "9\n"
          ],
          "name": "stdout"
        }
      ]
    },
    {
      "cell_type": "markdown",
      "metadata": {
        "id": "l3pHHkzqp6n6"
      },
      "source": [
        "**Python is:**\n",
        "\n",
        "\n",
        "*   A high-level language\n",
        "*   **Many programming types:**\n",
        "  * Modular: dividing the algorithm in blocks\n",
        "  * Object-oriented: classes and objects being referenced\n",
        "  * Functional: application of mathematical functions\n",
        "* **Types:**\n",
        "  * strong and dynamic\n",
        "* Open source\n",
        "* **Interpreted language:** \n",
        "\n",
        "\n"
      ]
    },
    {
      "cell_type": "markdown",
      "metadata": {
        "id": "K5Hk0snZtD_9"
      },
      "source": [
        "**Variable Types and Inequations**"
      ]
    },
    {
      "cell_type": "code",
      "metadata": {
        "colab": {
          "base_uri": "https://localhost:8080/"
        },
        "id": "EdAvYUGJtMy3",
        "outputId": "0f7db0a4-5d22-4124-dcee-26f348778c09"
      },
      "source": [
        "numero = 6\n",
        "\n",
        "numero = \"peter\"\n",
        "type(numero)"
      ],
      "execution_count": 46,
      "outputs": [
        {
          "output_type": "execute_result",
          "data": {
            "text/plain": [
              "str"
            ]
          },
          "metadata": {
            "tags": []
          },
          "execution_count": 46
        }
      ]
    },
    {
      "cell_type": "code",
      "metadata": {
        "colab": {
          "base_uri": "https://localhost:8080/"
        },
        "id": "fkSrjmz3tQzt",
        "outputId": "e4dccaf6-7422-4801-c1ed-c7a984b277ce"
      },
      "source": [
        "x = 2342.342\n",
        "\n",
        "type(x)"
      ],
      "execution_count": 47,
      "outputs": [
        {
          "output_type": "execute_result",
          "data": {
            "text/plain": [
              "float"
            ]
          },
          "metadata": {
            "tags": []
          },
          "execution_count": 47
        }
      ]
    },
    {
      "cell_type": "code",
      "metadata": {
        "colab": {
          "base_uri": "https://localhost:8080/"
        },
        "id": "WzyLjhKlthUK",
        "outputId": "76a8085a-f978-4685-cff1-77b20ca4a9c3"
      },
      "source": [
        "print(x + 4)"
      ],
      "execution_count": 48,
      "outputs": [
        {
          "output_type": "stream",
          "text": [
            "2346.342\n"
          ],
          "name": "stdout"
        }
      ]
    },
    {
      "cell_type": "code",
      "metadata": {
        "colab": {
          "base_uri": "https://localhost:8080/"
        },
        "id": "h0AjF-4BvWUW",
        "outputId": "6136c161-34fb-453a-a2a5-c109e282bf42"
      },
      "source": [
        "flag = False\n",
        "\n",
        "type(flag)"
      ],
      "execution_count": 49,
      "outputs": [
        {
          "output_type": "execute_result",
          "data": {
            "text/plain": [
              "bool"
            ]
          },
          "metadata": {
            "tags": []
          },
          "execution_count": 49
        }
      ]
    },
    {
      "cell_type": "code",
      "metadata": {
        "colab": {
          "base_uri": "https://localhost:8080/"
        },
        "id": "Gx4NQGXfvs92",
        "outputId": "cbaefddf-efdc-4fa7-b682-c489af081ca0"
      },
      "source": [
        "y = 4\n",
        "\n",
        "y > 30"
      ],
      "execution_count": 50,
      "outputs": [
        {
          "output_type": "execute_result",
          "data": {
            "text/plain": [
              "False"
            ]
          },
          "metadata": {
            "tags": []
          },
          "execution_count": 50
        }
      ]
    },
    {
      "cell_type": "code",
      "metadata": {
        "colab": {
          "base_uri": "https://localhost:8080/"
        },
        "id": "v1gozoUDwHLb",
        "outputId": "f9e30f05-3e0c-491f-b478-9fa27032d09c"
      },
      "source": [
        "x >= 10"
      ],
      "execution_count": 51,
      "outputs": [
        {
          "output_type": "execute_result",
          "data": {
            "text/plain": [
              "True"
            ]
          },
          "metadata": {
            "tags": []
          },
          "execution_count": 51
        }
      ]
    },
    {
      "cell_type": "markdown",
      "metadata": {
        "id": "VixuNYf-xbs4"
      },
      "source": [
        "**Python And Identation**"
      ]
    },
    {
      "cell_type": "code",
      "metadata": {
        "colab": {
          "base_uri": "https://localhost:8080/"
        },
        "id": "_WBhqYWWxfi_",
        "outputId": "89f87d92-dba6-4cd6-f02f-8685f2f3c1cc"
      },
      "source": [
        "num = 70\n",
        "\n",
        "if num % 2 == 0:\n",
        "  print(\"yes\")\n",
        "else:\n",
        "  print(\"no\")"
      ],
      "execution_count": 52,
      "outputs": [
        {
          "output_type": "stream",
          "text": [
            "yes\n"
          ],
          "name": "stdout"
        }
      ]
    },
    {
      "cell_type": "markdown",
      "metadata": {
        "id": "l0Knk12LySsb"
      },
      "source": [
        "**Syllabus**\n",
        "\n",
        "* **Data Structures:**\n",
        "  * Lists and Tuples\n",
        "  * Dictionaries\n",
        "  * Hashing\n",
        "  * Files\n",
        "  * Strings\n",
        "  \n",
        "* **frameworks such as:** NLTK and spaCy"
      ]
    },
    {
      "cell_type": "markdown",
      "metadata": {
        "id": "X0tMfVfE0Ff5"
      },
      "source": [
        "**List**"
      ]
    },
    {
      "cell_type": "code",
      "metadata": {
        "colab": {
          "base_uri": "https://localhost:8080/"
        },
        "id": "kQiypsqV0IS9",
        "outputId": "b9bda0fb-192c-456d-eaed-dadbe1f0d27e"
      },
      "source": [
        "# range -> sequence of numbers according to a parameter : range(5) => numbers from 0 to 4\n",
        "\n",
        "l = list(range(5))\n",
        "l"
      ],
      "execution_count": 53,
      "outputs": [
        {
          "output_type": "execute_result",
          "data": {
            "text/plain": [
              "[0, 1, 2, 3, 4]"
            ]
          },
          "metadata": {
            "tags": []
          },
          "execution_count": 53
        }
      ]
    },
    {
      "cell_type": "code",
      "metadata": {
        "colab": {
          "base_uri": "https://localhost:8080/"
        },
        "id": "Q630-kwq0wy-",
        "outputId": "b74dc288-7ab8-4d51-c45f-14364502ccca"
      },
      "source": [
        "l.append(5)\n",
        "\n",
        "l"
      ],
      "execution_count": 54,
      "outputs": [
        {
          "output_type": "execute_result",
          "data": {
            "text/plain": [
              "[0, 1, 2, 3, 4, 5]"
            ]
          },
          "metadata": {
            "tags": []
          },
          "execution_count": 54
        }
      ]
    },
    {
      "cell_type": "code",
      "metadata": {
        "colab": {
          "base_uri": "https://localhost:8080/"
        },
        "id": "IyMiDWmG2jLv",
        "outputId": "fc31432b-a3fc-4133-a8ce-812892da6ffc"
      },
      "source": [
        "l.reverse()\n",
        "l"
      ],
      "execution_count": 55,
      "outputs": [
        {
          "output_type": "execute_result",
          "data": {
            "text/plain": [
              "[5, 4, 3, 2, 1, 0]"
            ]
          },
          "metadata": {
            "tags": []
          },
          "execution_count": 55
        }
      ]
    },
    {
      "cell_type": "code",
      "metadata": {
        "colab": {
          "base_uri": "https://localhost:8080/"
        },
        "id": "ljVDpRq32ntv",
        "outputId": "281bcca0-7473-43c3-f989-57f93aa20c09"
      },
      "source": [
        "# sorting this list out! \n",
        "l.sort()\n",
        "l"
      ],
      "execution_count": 58,
      "outputs": [
        {
          "output_type": "execute_result",
          "data": {
            "text/plain": [
              "[0, 1, 2, 3, 4, 5]"
            ]
          },
          "metadata": {
            "tags": []
          },
          "execution_count": 58
        }
      ]
    }
  ]
}